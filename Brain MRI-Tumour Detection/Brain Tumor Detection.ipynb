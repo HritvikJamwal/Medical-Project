{
 "cells": [
  {
   "cell_type": "code",
   "execution_count": 2,
   "metadata": {},
   "outputs": [],
   "source": [
    "from tensorflow.keras.layers import Dense,Conv2D,MaxPooling2D,Flatten,Dropout\n",
    "from tensorflow.keras.models import Sequential,load_model\n",
    "import cv2\n",
    "import numpy as np\n",
    "from keras.utils import to_categorical\n",
    "import glob\n",
    "import matplotlib.pyplot as plt\n",
    "import pandas as pd\n",
    "from keras.preprocessing.image import ImageDataGenerator"
   ]
  },
  {
   "cell_type": "code",
   "execution_count": 3,
   "metadata": {},
   "outputs": [],
   "source": [
    "def preprocessing(filepath):\n",
    "    data=[cv2.imread(i) for i in filepath]\n",
    "    data=[cv2.resize(i,(150,150)) for i in data]\n",
    "    data=np.array(data)\n",
    "    return data/255.0"
   ]
  },
  {
   "cell_type": "code",
   "execution_count": 4,
   "metadata": {},
   "outputs": [],
   "source": [
    "no_class_filepath=glob.glob(r\"Brain MRI Images for Brain Tumor Detection\\no\\*\")\n",
    "yes_class_filepath=glob.glob(r\"Brain MRI Images for Brain Tumor Detection\\yes\\*\")\n",
    "x_no=preprocessing(no_class_filepath)\n",
    "x_yes=preprocessing(yes_class_filepath)\n",
    "y=[0 for i in range(len(no_class_filepath))]+[1 for i in range(len(yes_class_filepath))]\n",
    "y=to_categorical(y)\n",
    "x=np.concatenate((x_no,x_yes))"
   ]
  },
  {
   "cell_type": "code",
   "execution_count": 6,
   "metadata": {},
   "outputs": [
    {
     "data": {
      "text/plain": [
       "(253, 150, 150, 3)"
      ]
     },
     "execution_count": 6,
     "metadata": {},
     "output_type": "execute_result"
    }
   ],
   "source": [
    "x.shape"
   ]
  },
  {
   "cell_type": "code",
   "execution_count": 7,
   "metadata": {},
   "outputs": [],
   "source": [
    "model=Sequential()\n",
    "model.add(Conv2D(64,(4,4),input_shape=(150,150,3),activation=\"relu\",padding=\"SAME\"))\n",
    "model.add(MaxPooling2D((3,3)))\n",
    "model.add(Conv2D(64,(3,3),input_shape=(150,150,3),activation=\"relu\",padding=\"SAME\"))\n",
    "model.add(MaxPooling2D((3,3)))\n",
    "model.add(Flatten())\n",
    "model.add(Dropout(0.4))\n",
    "model.add(Dense(128,activation=\"relu\"))\n",
    "model.add(Dropout(0.4))\n",
    "model.add(Dense(2,activation=\"sigmoid\"))"
   ]
  },
  {
   "cell_type": "code",
   "execution_count": 8,
   "metadata": {},
   "outputs": [],
   "source": [
    "model.compile(loss=\"binary_crossentropy\",optimizer=\"adam\",metrics=[\"accuracy\"])"
   ]
  },
  {
   "cell_type": "code",
   "execution_count": 10,
   "metadata": {},
   "outputs": [
    {
     "name": "stdout",
     "output_type": "stream",
     "text": [
      "Epoch 1/10\n",
      "7/7 [==============================] - 1s 203ms/step - loss: 0.2349 - accuracy: 0.9010 - val_loss: 0.2341 - val_accuracy: 0.9216\n",
      "Epoch 2/10\n",
      "7/7 [==============================] - 1s 189ms/step - loss: 0.2415 - accuracy: 0.9010 - val_loss: 0.7090 - val_accuracy: 0.6471\n",
      "Epoch 3/10\n",
      "7/7 [==============================] - 1s 198ms/step - loss: 0.1832 - accuracy: 0.9257 - val_loss: 0.3419 - val_accuracy: 0.9216\n",
      "Epoch 4/10\n",
      "7/7 [==============================] - 1s 196ms/step - loss: 0.1639 - accuracy: 0.9257 - val_loss: 0.4354 - val_accuracy: 0.8627\n",
      "Epoch 5/10\n",
      "7/7 [==============================] - 1s 200ms/step - loss: 0.1087 - accuracy: 0.9802 - val_loss: 0.3800 - val_accuracy: 0.8824\n",
      "Epoch 6/10\n",
      "7/7 [==============================] - 1s 196ms/step - loss: 0.0722 - accuracy: 0.9802 - val_loss: 0.3294 - val_accuracy: 0.9020\n",
      "Epoch 7/10\n",
      "7/7 [==============================] - 1s 191ms/step - loss: 0.0599 - accuracy: 0.9802 - val_loss: 0.5941 - val_accuracy: 0.8627\n",
      "Epoch 8/10\n",
      "7/7 [==============================] - ETA: 0s - loss: 0.0673 - accuracy: 0.98 - 1s 191ms/step - loss: 0.0673 - accuracy: 0.9802 - val_loss: 0.2575 - val_accuracy: 0.9216\n",
      "Epoch 9/10\n",
      "7/7 [==============================] - 1s 191ms/step - loss: 0.0447 - accuracy: 0.9901 - val_loss: 0.9757 - val_accuracy: 0.8039\n",
      "Epoch 10/10\n",
      "7/7 [==============================] - 1s 189ms/step - loss: 0.0653 - accuracy: 0.9802 - val_loss: 0.2750 - val_accuracy: 0.9020\n"
     ]
    },
    {
     "data": {
      "text/plain": [
       "<tensorflow.python.keras.callbacks.History at 0x23a9bb4f5e0>"
      ]
     },
     "execution_count": 10,
     "metadata": {},
     "output_type": "execute_result"
    }
   ],
   "source": [
    "model.fit(x,y,validation_split=0.2,epochs=10)"
   ]
  },
  {
   "cell_type": "code",
   "execution_count": 11,
   "metadata": {},
   "outputs": [],
   "source": [
    "model.save(\"brain_tumour.h5\")"
   ]
  },
  {
   "cell_type": "code",
   "execution_count": 12,
   "metadata": {},
   "outputs": [],
   "source": [
    "filepath=r\"Brain MRI Images for Brain Tumor Detection\\\\no\\\\1 no.jpeg\""
   ]
  },
  {
   "cell_type": "code",
   "execution_count": 13,
   "metadata": {},
   "outputs": [
    {
     "name": "stdout",
     "output_type": "stream",
     "text": [
      "WARNING:tensorflow:From <ipython-input-13-60025d84ba69>:13: Sequential.predict_proba (from tensorflow.python.keras.engine.sequential) is deprecated and will be removed after 2021-01-01.\n",
      "Instructions for updating:\n",
      "Please use `model.predict()` instead.\n",
      "WARNING:tensorflow:From <ipython-input-13-60025d84ba69>:14: Sequential.predict_classes (from tensorflow.python.keras.engine.sequential) is deprecated and will be removed after 2021-01-01.\n",
      "Instructions for updating:\n",
      "Please use instead:* `np.argmax(model.predict(x), axis=-1)`,   if your model does multi-class classification   (e.g. if it uses a `softmax` last-layer activation).* `(model.predict(x) > 0.5).astype(\"int32\")`,   if your model does binary classification   (e.g. if it uses a `sigmoid` last-layer activation).\n",
      "No tumour detected and the probability of no tumour is : 0.9998872\n"
     ]
    }
   ],
   "source": [
    "from keras.models import load_model\n",
    "import cv2\n",
    "import numpy as np\n",
    "def preprocessing(i):\n",
    "    data=cv2.imread(i)\n",
    "    data=cv2.resize(data,(150,150))\n",
    "    data=np.array(data)\n",
    "    data=data.reshape(-1,150,150,3)\n",
    "    return data/255.0\n",
    "\n",
    "model=load_model(\"brain_tumour.h5\")\n",
    "data=preprocessing(filepath)\n",
    "s=model.predict_proba(data)\n",
    "p=model.predict_classes(data)[0]\n",
    "\n",
    "if p==0:\n",
    "    print(\"No tumour detected and the probability of no tumour is :\",s[0][0])\n",
    "else :\n",
    "    print(\"Tumour is detected and probability is of having tumour is :\",s[0][1])"
   ]
  },
  {
   "cell_type": "code",
   "execution_count": null,
   "metadata": {},
   "outputs": [],
   "source": []
  }
 ],
 "metadata": {
  "kernelspec": {
   "display_name": "gpu",
   "language": "python",
   "name": "gpu"
  },
  "language_info": {
   "codemirror_mode": {
    "name": "ipython",
    "version": 3
   },
   "file_extension": ".py",
   "mimetype": "text/x-python",
   "name": "python",
   "nbconvert_exporter": "python",
   "pygments_lexer": "ipython3",
   "version": "3.8.3"
  }
 },
 "nbformat": 4,
 "nbformat_minor": 4
}
