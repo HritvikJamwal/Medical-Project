{
 "cells": [
  {
   "cell_type": "code",
   "execution_count": 2,
   "metadata": {},
   "outputs": [],
   "source": [
    "from keras.preprocessing.image import ImageDataGenerator\n",
    "from keras.layers import Dense,Dropout,Flatten,Conv2D,MaxPooling2D\n",
    "from keras.models import Sequential,load_model\n",
    "import h5py"
   ]
  },
  {
   "cell_type": "markdown",
   "metadata": {},
   "source": [
    "# Using ImageDataGenerator instead of Open-Cv as it helps OOM error "
   ]
  },
  {
   "cell_type": "code",
   "execution_count": 13,
   "metadata": {},
   "outputs": [],
   "source": [
    "train=ImageDataGenerator(rescale=1/255.0)\n",
    "test=ImageDataGenerator(rescale=1/255.0)"
   ]
  },
  {
   "cell_type": "code",
   "execution_count": 14,
   "metadata": {},
   "outputs": [
    {
     "name": "stdout",
     "output_type": "stream",
     "text": [
      "Found 24546 images belonging to 2 classes.\n",
      "Found 3012 images belonging to 2 classes.\n"
     ]
    }
   ],
   "source": [
    "gen_train=train.flow_from_directory(\"malaria\\\\\",target_size=(100,100),class_mode=\"binary\")\n",
    "gen_test=test.flow_from_directory(\"test-malaria\\\\\",target_size=(100,100),class_mode=\"binary\")"
   ]
  },
  {
   "cell_type": "code",
   "execution_count": 15,
   "metadata": {},
   "outputs": [
    {
     "data": {
      "text/plain": [
       "({'Parasitized': 0, 'Uninfected': 1}, {'Parasitized': 0, 'Uninfected': 1})"
      ]
     },
     "execution_count": 15,
     "metadata": {},
     "output_type": "execute_result"
    }
   ],
   "source": [
    "gen_train.class_indices,gen_test.class_indices"
   ]
  },
  {
   "cell_type": "markdown",
   "metadata": {},
   "source": [
    "# Model with 2 Conv Layer and 1 Dense Layer"
   ]
  },
  {
   "cell_type": "code",
   "execution_count": 16,
   "metadata": {},
   "outputs": [],
   "source": [
    "model=Sequential()\n",
    "model.add(Conv2D(64,(4,4),input_shape=(100,100,3),activation=\"relu\",padding=\"SAME\"))\n",
    "model.add(MaxPooling2D((3,3)))\n",
    "model.add(Conv2D(64,(4,4),activation=\"relu\",padding=\"SAME\"))\n",
    "model.add(MaxPooling2D((3,3)))\n",
    "model.add(Flatten())\n",
    "model.add(Dense(128,activation=\"relu\"))\n",
    "model.add(Dropout(0.4))\n",
    "model.add(Dense(1,activation=\"sigmoid\"))"
   ]
  },
  {
   "cell_type": "code",
   "execution_count": 17,
   "metadata": {},
   "outputs": [],
   "source": [
    "model.compile(loss=\"binary_crossentropy\",optimizer=\"adam\",metrics=[\"accuracy\"])"
   ]
  },
  {
   "cell_type": "code",
   "execution_count": 18,
   "metadata": {
    "scrolled": true
   },
   "outputs": [
    {
     "name": "stdout",
     "output_type": "stream",
     "text": [
      "Epoch 1/20\n",
      "768/768 [==============================] - 708s 921ms/step - loss: 0.3812 - accuracy: 0.8225 - val_loss: 0.1954 - val_accuracy: 0.9432\n",
      "Epoch 2/20\n",
      "768/768 [==============================] - 94s 123ms/step - loss: 0.1620 - accuracy: 0.9473 - val_loss: 0.1685 - val_accuracy: 0.9539\n",
      "Epoch 3/20\n",
      "768/768 [==============================] - 93s 120ms/step - loss: 0.1386 - accuracy: 0.9560 - val_loss: 0.1625 - val_accuracy: 0.9502\n",
      "Epoch 4/20\n",
      "768/768 [==============================] - 94s 122ms/step - loss: 0.1222 - accuracy: 0.9597 - val_loss: 0.1434 - val_accuracy: 0.9535\n",
      "Epoch 5/20\n",
      "768/768 [==============================] - 100s 130ms/step - loss: 0.1069 - accuracy: 0.9646 - val_loss: 0.1793 - val_accuracy: 0.9369\n",
      "Epoch 6/20\n",
      "768/768 [==============================] - 95s 124ms/step - loss: 0.0976 - accuracy: 0.9675 - val_loss: 0.1750 - val_accuracy: 0.9459\n",
      "Epoch 7/20\n",
      "768/768 [==============================] - 95s 124ms/step - loss: 0.0843 - accuracy: 0.9723 - val_loss: 0.1759 - val_accuracy: 0.9449\n",
      "Epoch 8/20\n",
      "768/768 [==============================] - 98s 128ms/step - loss: 0.0726 - accuracy: 0.9748 - val_loss: 0.2234 - val_accuracy: 0.9319\n",
      "Epoch 9/20\n",
      "768/768 [==============================] - 95s 123ms/step - loss: 0.0582 - accuracy: 0.9797 - val_loss: 0.1987 - val_accuracy: 0.9452\n",
      "Epoch 10/20\n",
      "768/768 [==============================] - 94s 123ms/step - loss: 0.0495 - accuracy: 0.9837 - val_loss: 0.2149 - val_accuracy: 0.9419\n",
      "Epoch 11/20\n",
      "768/768 [==============================] - 96s 125ms/step - loss: 0.0408 - accuracy: 0.9861 - val_loss: 0.2682 - val_accuracy: 0.9396\n",
      "Epoch 12/20\n",
      "768/768 [==============================] - 96s 125ms/step - loss: 0.0325 - accuracy: 0.9891 - val_loss: 0.2770 - val_accuracy: 0.9382\n",
      "Epoch 13/20\n",
      "768/768 [==============================] - 122s 158ms/step - loss: 0.0295 - accuracy: 0.9901 - val_loss: 0.3375 - val_accuracy: 0.9422\n",
      "Epoch 14/20\n",
      "768/768 [==============================] - 96s 126ms/step - loss: 0.0258 - accuracy: 0.9916 - val_loss: 0.3345 - val_accuracy: 0.9416\n",
      "Epoch 15/20\n",
      "768/768 [==============================] - 95s 124ms/step - loss: 0.0181 - accuracy: 0.9934 - val_loss: 0.4357 - val_accuracy: 0.9406\n",
      "Epoch 16/20\n",
      "768/768 [==============================] - 95s 124ms/step - loss: 0.0192 - accuracy: 0.9932 - val_loss: 0.3406 - val_accuracy: 0.9429\n",
      "Epoch 17/20\n",
      "768/768 [==============================] - 94s 122ms/step - loss: 0.0176 - accuracy: 0.9936 - val_loss: 0.3654 - val_accuracy: 0.9462\n",
      "Epoch 18/20\n",
      "768/768 [==============================] - 95s 123ms/step - loss: 0.0156 - accuracy: 0.9948 - val_loss: 0.3550 - val_accuracy: 0.9382\n",
      "Epoch 19/20\n",
      "768/768 [==============================] - 93s 122ms/step - loss: 0.0139 - accuracy: 0.9951 - val_loss: 0.4007 - val_accuracy: 0.9359\n",
      "Epoch 20/20\n",
      "768/768 [==============================] - 97s 126ms/step - loss: 0.0128 - accuracy: 0.9958 - val_loss: 0.3405 - val_accuracy: 0.9402\n"
     ]
    },
    {
     "data": {
      "text/plain": [
       "<tensorflow.python.keras.callbacks.History at 0x1b08f3f7670>"
      ]
     },
     "execution_count": 18,
     "metadata": {},
     "output_type": "execute_result"
    }
   ],
   "source": [
    "model.fit_generator(gen_train,validation_data=gen_test,epochs=20)"
   ]
  },
  {
   "cell_type": "code",
   "execution_count": 19,
   "metadata": {},
   "outputs": [],
   "source": [
    "model.save(\"malaria_model.h5\")"
   ]
  },
  {
   "cell_type": "code",
   "execution_count": 20,
   "metadata": {},
   "outputs": [],
   "source": [
    "model=load_model(\"malaria_model.h5\")"
   ]
  },
  {
   "cell_type": "code",
   "execution_count": 21,
   "metadata": {},
   "outputs": [
    {
     "data": {
      "text/plain": [
       "({'Parasitized': 0, 'Uninfected': 1}, {'Parasitized': 0, 'Uninfected': 1})"
      ]
     },
     "execution_count": 21,
     "metadata": {},
     "output_type": "execute_result"
    }
   ],
   "source": [
    "gen_test.class_indices,gen_train.class_indices"
   ]
  },
  {
   "cell_type": "code",
   "execution_count": 23,
   "metadata": {},
   "outputs": [],
   "source": [
    "import glob\n",
    "filepath=\"test-malaria\\\\Uninfected\\\\C39P4thinF_original_IMG_20150622_111206_cell_75.png\""
   ]
  },
  {
   "cell_type": "code",
   "execution_count": 24,
   "metadata": {},
   "outputs": [
    {
     "name": "stdout",
     "output_type": "stream",
     "text": [
      "The cell is uninfected and probability is : 0.85143065\n"
     ]
    }
   ],
   "source": [
    "from keras.models import load_model\n",
    "import cv2\n",
    "import numpy as np\n",
    "\n",
    "def preprocessing(i):\n",
    "    data=cv2.imread(i)\n",
    "    data=cv2.resize(data,(100,100))\n",
    "    data=np.array(data)\n",
    "    data=data.reshape(-1,100,100,3)\n",
    "    return data/255.0\n",
    "\n",
    "model=load_model(\"malaria_model.h5\")\n",
    "data=preprocessing(filepath)\n",
    "s=model.predict_proba(data)\n",
    "p=model.predict_classes(data)[0][0]\n",
    "\n",
    "if p==0:\n",
    "    print(\"The cell is parasitized and the probability is :\",1-s[0][0])\n",
    "else :\n",
    "    print(\"The cell is uninfected and probability is :\",s[0][0])"
   ]
  }
 ],
 "metadata": {
  "kernelspec": {
   "display_name": "gpu",
   "language": "python",
   "name": "gpu"
  },
  "language_info": {
   "codemirror_mode": {
    "name": "ipython",
    "version": 3
   },
   "file_extension": ".py",
   "mimetype": "text/x-python",
   "name": "python",
   "nbconvert_exporter": "python",
   "pygments_lexer": "ipython3",
   "version": "3.8.3"
  }
 },
 "nbformat": 4,
 "nbformat_minor": 4
}
