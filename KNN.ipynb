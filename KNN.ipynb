{
 "cells": [
  {
   "cell_type": "code",
   "execution_count": 1,
   "metadata": {},
   "outputs": [],
   "source": [
    "from sklearn import datasets\n",
    "from sklearn.neighbors import KNeighborsClassifier\n",
    "from sklearn.model_selection import train_test_split\n",
    "from sklearn.model_selection import cross_val_score"
   ]
  },
  {
   "cell_type": "code",
   "execution_count": 2,
   "metadata": {},
   "outputs": [],
   "source": [
    "import pandas as pd\n",
    "import numpy as np"
   ]
  },
  {
   "cell_type": "code",
   "execution_count": 3,
   "metadata": {},
   "outputs": [],
   "source": [
    "data=pd.read_csv(\"cardio_train.csv\",delimiter=\";\")\n",
    "data.drop(['id'], axis = 1, inplace = True)"
   ]
  },
  {
   "cell_type": "code",
   "execution_count": 4,
   "metadata": {},
   "outputs": [],
   "source": [
    "from sklearn import preprocessing as ps\n",
    "trainData = data.iloc[0:52500]\n",
    "testData = data.iloc[52500:]"
   ]
  },
  {
   "cell_type": "code",
   "execution_count": 5,
   "metadata": {},
   "outputs": [
    {
     "name": "stdout",
     "output_type": "stream",
     "text": [
      "         age  gender  height  weight  ap_hi  ap_lo  cholesterol  gluc  smoke  \\\n",
      "0      18393       2     168    62.0    110     80            1     1      0   \n",
      "1      20228       1     156    85.0    140     90            3     1      0   \n",
      "2      18857       1     165    64.0    130     70            3     1      0   \n",
      "3      17623       2     169    82.0    150    100            1     1      0   \n",
      "4      17474       1     156    56.0    100     60            1     1      0   \n",
      "...      ...     ...     ...     ...    ...    ...          ...   ...    ...   \n",
      "52495  16200       1     167    65.0    150     90            2     1      0   \n",
      "52496  15216       2     169    73.0    110     60            1     2      1   \n",
      "52497  21706       1     152    82.0    130     80            2     1      0   \n",
      "52498  18249       1     160    60.0    120     80            1     1      0   \n",
      "52499  15957       1     168    69.0    100     60            1     1      0   \n",
      "\n",
      "       alco  active  cardio  \n",
      "0         0       1       0  \n",
      "1         0       1       1  \n",
      "2         0       0       1  \n",
      "3         0       1       1  \n",
      "4         0       0       0  \n",
      "...     ...     ...     ...  \n",
      "52495     0       1       1  \n",
      "52496     0       1       0  \n",
      "52497     0       1       1  \n",
      "52498     0       0       0  \n",
      "52499     0       1       0  \n",
      "\n",
      "[52500 rows x 12 columns]          age  gender  height  weight  ap_hi  ap_lo  cholesterol  gluc  smoke  \\\n",
      "52500  20614       1     164    71.0    120     80            1     1      0   \n",
      "52501  15144       2     174    76.0    110     70            1     1      1   \n",
      "52502  21948       1     163    63.0    110     70            1     1      0   \n",
      "52503  20418       1     160    78.0    150    100            2     1      0   \n",
      "52504  19736       2     176    92.0    120     80            2     1      1   \n",
      "...      ...     ...     ...     ...    ...    ...          ...   ...    ...   \n",
      "69995  19240       2     168    76.0    120     80            1     1      1   \n",
      "69996  22601       1     158   126.0    140     90            2     2      0   \n",
      "69997  19066       2     183   105.0    180     90            3     1      0   \n",
      "69998  22431       1     163    72.0    135     80            1     2      0   \n",
      "69999  20540       1     170    72.0    120     80            2     1      0   \n",
      "\n",
      "       alco  active  cardio  \n",
      "52500     0       1       0  \n",
      "52501     1       1       0  \n",
      "52502     0       1       0  \n",
      "52503     0       1       1  \n",
      "52504     1       1       0  \n",
      "...     ...     ...     ...  \n",
      "69995     0       1       0  \n",
      "69996     0       1       1  \n",
      "69997     1       0       1  \n",
      "69998     0       0       1  \n",
      "69999     0       1       0  \n",
      "\n",
      "[17500 rows x 12 columns]\n"
     ]
    }
   ],
   "source": [
    "print(trainData, testData)"
   ]
  },
  {
   "cell_type": "code",
   "execution_count": 6,
   "metadata": {},
   "outputs": [],
   "source": [
    "trainData = trainData.values\n",
    "testData = testData.values\n",
    "x_train = trainData[:, 0:11]\n",
    "y_train = trainData[:, 11]\n",
    "x_test = testData[:, 0:11]\n",
    "y_test = testData[:, 11]"
   ]
  },
  {
   "cell_type": "code",
   "execution_count": 10,
   "metadata": {},
   "outputs": [
    {
     "data": {
      "text/plain": [
       "(17500, 11)"
      ]
     },
     "execution_count": 10,
     "metadata": {},
     "output_type": "execute_result"
    }
   ],
   "source": [
    "x_test.shape"
   ]
  },
  {
   "cell_type": "code",
   "execution_count": 12,
   "metadata": {},
   "outputs": [
    {
     "data": {
      "text/plain": [
       "KNeighborsClassifier(algorithm='auto', leaf_size=30, metric='minkowski',\n",
       "                     metric_params=None, n_jobs=None, n_neighbors=5, p=2,\n",
       "                     weights='uniform')"
      ]
     },
     "execution_count": 12,
     "metadata": {},
     "output_type": "execute_result"
    }
   ],
   "source": [
    "clf = KNeighborsClassifier()\n",
    "clf.fit(x_train, y_train)"
   ]
  },
  {
   "cell_type": "code",
   "execution_count": 13,
   "metadata": {},
   "outputs": [
    {
     "data": {
      "text/plain": [
       "0.6844"
      ]
     },
     "execution_count": 13,
     "metadata": {},
     "output_type": "execute_result"
    }
   ],
   "source": [
    "clf.score(x_test, y_test)"
   ]
  },
  {
   "cell_type": "code",
   "execution_count": 14,
   "metadata": {},
   "outputs": [],
   "source": [
    "x_axis = []\n",
    "y_axis = []\n",
    "for i in range(1, 26, 2):\n",
    "    clf = KNeighborsClassifier(n_neighbors = i)\n",
    "    score = cross_val_score(clf, x_train, y_train)\n",
    "    x_axis.append(i)\n",
    "    y_axis.append(score.mean())"
   ]
  },
  {
   "cell_type": "code",
   "execution_count": 15,
   "metadata": {},
   "outputs": [
    {
     "data": {
      "image/png": "[encoded data removed]",
      "text/plain": [
       "<Figure size 432x288 with 1 Axes>"
      ]
     },
     "metadata": {
      "needs_background": "light"
     },
     "output_type": "display_data"
    }
   ],
   "source": [
    "import matplotlib.pyplot as plt\n",
    "plt.plot(x_axis, y_axis)\n",
    "plt.show()"
   ]
  },
  {
   "cell_type": "code",
   "execution_count": null,
   "metadata": {},
   "outputs": [],
   "source": []
  }
 ],
 "metadata": {
  "kernelspec": {
   "display_name": "Python 3",
   "language": "python",
   "name": "python3"
  },
  "language_info": {
   "codemirror_mode": {
    "name": "ipython",
    "version": 3
   },
   "file_extension": ".py",
   "mimetype": "text/x-python",
   "name": "python",
   "nbconvert_exporter": "python",
   "pygments_lexer": "ipython3",
   "version": "3.7.6"
  }
 },
 "nbformat": 4,
 "nbformat_minor": 4
}
