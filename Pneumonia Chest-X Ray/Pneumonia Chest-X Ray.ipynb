{
 "cells": [
  {
   "cell_type": "code",
   "execution_count": 4,
   "metadata": {
    "_cell_guid": "79c7e3d0-c299-4dcb-8224-4455121ee9b0",
    "_uuid": "d629ff2d2480ee46fbb7e2d37f6b5fab8052498a"
   },
   "outputs": [],
   "source": [
    "import glob\n",
    "from keras.models import Sequential\n",
    "from keras.layers import MaxPooling2D,Flatten,Dropout,Conv2D,Dense\n",
    "import numpy as np\n",
    "import cv2\n",
    "import matplotlib.pyplot as plt\n",
    "#from sklearn.utils import shuffle"
   ]
  },
  {
   "cell_type": "code",
   "execution_count": 5,
   "metadata": {},
   "outputs": [],
   "source": [
    "from keras.preprocessing.image import ImageDataGenerator"
   ]
  },
  {
   "cell_type": "code",
   "execution_count": 6,
   "metadata": {},
   "outputs": [],
   "source": [
    "train_gen=ImageDataGenerator(rescale=1./255,shear_range=.2,zoom_range=.2)\n",
    "test_gen=ImageDataGenerator(rescale=1./255)"
   ]
  },
  {
   "cell_type": "code",
   "execution_count": 8,
   "metadata": {},
   "outputs": [
    {
     "name": "stdout",
     "output_type": "stream",
     "text": [
      "Found 5216 images belonging to 2 classes.\n"
     ]
    }
   ],
   "source": [
    "train_data=train_gen.flow_from_directory(r\"chest_xray/train\",target_size=(250,250),class_mode='binary',batch_size=32)"
   ]
  },
  {
   "cell_type": "code",
   "execution_count": 9,
   "metadata": {},
   "outputs": [
    {
     "name": "stdout",
     "output_type": "stream",
     "text": [
      "Found 624 images belonging to 2 classes.\n"
     ]
    }
   ],
   "source": [
    "test_data=test_gen.flow_from_directory(r\"chest_xray/test\",target_size=(250,250),class_mode='binary',batch_size=32)"
   ]
  },
  {
   "cell_type": "code",
   "execution_count": 10,
   "metadata": {},
   "outputs": [],
   "source": [
    "k_conv1=4\n",
    "k_conv2=4\n",
    "n_conv1=32\n",
    "n_conv2=64\n",
    "\n",
    "max_pool1=2\n",
    "max_pool2=2\n",
    "\n",
    "height=384\n",
    "width=127\n",
    "channels=3\n",
    "\n",
    "hidden=64"
   ]
  },
  {
   "cell_type": "code",
   "execution_count": 18,
   "metadata": {},
   "outputs": [],
   "source": [
    "model=Sequential()\n",
    "model.add(Conv2D(n_conv1,(k_conv1,k_conv1),activation='relu',padding='same',input_shape=[250,250,channels]))\n",
    "model.add(MaxPooling2D((5,5)))\n",
    "model.add(Conv2D(n_conv2,(k_conv2,k_conv2),activation='relu',padding='same'))\n",
    "model.add(MaxPooling2D((max_pool2,max_pool2)))\n",
    "model.add(Flatten())\n",
    "model.add(Dense(hidden,activation='relu'))\n",
    "model.add(Dropout(0.2))\n",
    "model.add(Dense(1,activation='sigmoid'))\n",
    "model.compile(loss='binary_crossentropy',optimizer='adam',metrics=['accuracy'])"
   ]
  },
  {
   "cell_type": "code",
   "execution_count": 21,
   "metadata": {
    "scrolled": true
   },
   "outputs": [
    {
     "name": "stdout",
     "output_type": "stream",
     "text": [
      "Epoch 1/5\n",
      "30/30 [==============================] - 37s 1s/step - loss: 0.1711 - accuracy: 0.9240 - val_loss: 0.6870 - val_accuracy: 0.8189\n",
      "Epoch 2/5\n",
      "30/30 [==============================] - 28s 940ms/step - loss: 0.1741 - accuracy: 0.9229 - val_loss: 0.5614 - val_accuracy: 0.8718\n",
      "Epoch 3/5\n",
      "30/30 [==============================] - 30s 1s/step - loss: 0.1820 - accuracy: 0.9271 - val_loss: 0.4817 - val_accuracy: 0.8622\n",
      "Epoch 4/5\n",
      "30/30 [==============================] - 28s 935ms/step - loss: 0.2035 - accuracy: 0.9240 - val_loss: 0.6315 - val_accuracy: 0.8237\n",
      "Epoch 5/5\n",
      "30/30 [==============================] - 28s 939ms/step - loss: 0.1442 - accuracy: 0.9448 - val_loss: 0.5382 - val_accuracy: 0.8397\n"
     ]
    },
    {
     "data": {
      "text/plain": [
       "<tensorflow.python.keras.callbacks.History at 0x1fa90f49730>"
      ]
     },
     "execution_count": 21,
     "metadata": {},
     "output_type": "execute_result"
    }
   ],
   "source": [
    "model.fit_generator(train_data,validation_data=test_data,steps_per_epoch=30,epochs=5)"
   ]
  },
  {
   "cell_type": "code",
   "execution_count": 22,
   "metadata": {},
   "outputs": [],
   "source": [
    "model.save('chestxray.h5')"
   ]
  },
  {
   "cell_type": "code",
   "execution_count": 22,
   "metadata": {},
   "outputs": [],
   "source": [
    "import keras\n",
    "model=keras.models.load_model('chestxray.h5')"
   ]
  },
  {
   "cell_type": "code",
   "execution_count": 26,
   "metadata": {},
   "outputs": [
    {
     "name": "stdout",
     "output_type": "stream",
     "text": [
      "NORMAL\n"
     ]
    }
   ],
   "source": [
    "import numpy as np\n",
    "from keras.models import load_model\n",
    "import cv2\n",
    "\n",
    "def preprocessing(path):\n",
    "    data=cv2.imread(path)\n",
    "    data=cv2.resize(data,(250,250))\n",
    "    data=np.array(data)\n",
    "    data=data.reshape(-1,250,250,3)\n",
    "    return data\n",
    "    \n",
    "data=preprocessing(r\"chest_xray\\val\\NORMAL\\NORMAL2-IM-1442-0001.jpeg\")    \n",
    "model=load_model('chestxray.h5')\n",
    "predict=model.predict_classes(data)[0][0]\n",
    "\n",
    "if predict==0:\n",
    "    print(\"NORMAL\")\n",
    "else:\n",
    "    print(\"PNEUMONIA DETECTED\")"
   ]
  },
  {
   "cell_type": "code",
   "execution_count": null,
   "metadata": {},
   "outputs": [],
   "source": []
  }
 ],
 "metadata": {
  "kernelspec": {
   "display_name": "gpu",
   "language": "python",
   "name": "gpu"
  },
  "language_info": {
   "codemirror_mode": {
    "name": "ipython",
    "version": 3
   },
   "file_extension": ".py",
   "mimetype": "text/x-python",
   "name": "python",
   "nbconvert_exporter": "python",
   "pygments_lexer": "ipython3",
   "version": "3.8.3"
  }
 },
 "nbformat": 4,
 "nbformat_minor": 4
}
